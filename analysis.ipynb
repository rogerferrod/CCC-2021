{
 "cells": [
  {
   "cell_type": "code",
   "execution_count": null,
   "id": "bd6e9eef",
   "metadata": {},
   "outputs": [],
   "source": [
    "!mkdir data panel"
   ]
  },
  {
   "cell_type": "code",
   "execution_count": null,
   "id": "d81a30aa",
   "metadata": {},
   "outputs": [],
   "source": [
    "!wget -P ./data https://s3.amazonaws.com/cfpb-hmda-public/prod/three-year-data/2018/2018_public_lar_three_year_csv.zip https://s3.amazonaws.com/cfpb-hmda-public/prod/three-year-data/2019/2019_public_lar_three_year_csv.zip https://s3.amazonaws.com/cfpb-hmda-public/prod/one-year-data/2020/2020_public_lar_one_year_csv.zip https://s3.amazonaws.com/cfpb-hmda-public/prod/one-year-data/2021/2021_public_lar_one_year_csv.zip https://s3.amazonaws.com/cfpb-hmda-public/prod/snapshot-data/2022/2022_public_lar_csv.zip"
   ]
  },
  {
   "cell_type": "code",
   "execution_count": null,
   "id": "0cac7e96",
   "metadata": {},
   "outputs": [],
   "source": [
    "!wget -P ./panel https://s3.amazonaws.com/cfpb-hmda-public/prod/three-year-data/2018/2018_public_panel_three_year_csv.zip https://s3.amazonaws.com/cfpb-hmda-public/prod/three-year-data/2019/2019_public_panel_three_year_csv.zip https://s3.amazonaws.com/cfpb-hmda-public/prod/one-year-data/2020/2020_public_panel_one_year_csv.zip https://s3.amazonaws.com/cfpb-hmda-public/prod/one-year-data/2021/2021_public_panel_one_year_csv.zip https://s3.amazonaws.com/cfpb-hmda-public/prod/snapshot-data/2022/2022_public_panel_csv.zip"
   ]
  },
  {
   "cell_type": "code",
   "execution_count": null,
   "id": "e7133488",
   "metadata": {},
   "outputs": [],
   "source": [
    "!unzip \"./panel/*.zip\" -d ./panel\n",
    "!unzip \"./data/*.zip\" -d ./data"
   ]
  },
  {
   "cell_type": "code",
   "execution_count": 1,
   "id": "40418ceb",
   "metadata": {
    "scrolled": true
   },
   "outputs": [
    {
     "name": "stderr",
     "output_type": "stream",
     "text": [
      "Setting default log level to \"WARN\".\n",
      "To adjust logging level use sc.setLogLevel(newLevel). For SparkR, use setLogLevel(newLevel).\n",
      "24/02/13 18:05:27 WARN NativeCodeLoader: Unable to load native-hadoop library for your platform... using builtin-java classes where applicable\n",
      "24/02/13 18:05:38 WARN GarbageCollectionMetrics: To enable non-built-in garbage collector(s) List(G1 Concurrent GC), users should configure it(them) to spark.eventLog.gcMetrics.youngGenerationGarbageCollectors or spark.eventLog.gcMetrics.oldGenerationGarbageCollectors\n"
     ]
    }
   ],
   "source": [
    "from pyspark.sql import SparkSession\n",
    "from pyspark.sql.functions import concat\n",
    "from pyspark.sql.types import StringType\n",
    "from pyspark.sql.functions import udf, col\n",
    "\n",
    "spark = SparkSession.builder.config('spark.driver.host', '127.0.0.1').getOrCreate()"
   ]
  },
  {
   "cell_type": "code",
   "execution_count": 2,
   "id": "f3cfddb0-45c6-49ac-8aca-7a7b4a39b49d",
   "metadata": {},
   "outputs": [],
   "source": [
    "panels = ['./panel/2018_public_panel_three_year_csv.csv', './panel/2019_public_panel_three_year_csv.csv',\n",
    "         './panel/2020_public_panel_one_year_csv.csv', './panel/2021_public_panel_one_year_csv.csv', './panel/2022_public_panel_csv.csv']\n",
    "\n",
    "df_panel = None\n",
    "for path in panels:\n",
    "    df_panel_sub = spark.read.option(\"delimiter\", \",\").option(\"header\", True).option(\"inferSchema\", \"true\").csv(path)\n",
    "    lei = 'lei' in df_panel_sub.schema[1].simpleString()\n",
    "    df_panel_sub = df_panel_sub.withColumn('lei_code', df_panel_sub.lei if lei else df_panel_sub.upper)\n",
    "    df_panel_sub = df_panel_sub.withColumn('bank', df_panel_sub.other_lender_code == 0)\n",
    "    df_panel_sub = df_panel_sub.select('lei_code','bank')\n",
    "    df_panel = df_panel.union(df_panel_sub) if df_panel is not None else df_panel_sub\n",
    "    \n",
    "df_panel = df_panel.dropDuplicates(['lei_code'])"
   ]
  },
  {
   "cell_type": "code",
   "execution_count": 3,
   "id": "145be6f7",
   "metadata": {},
   "outputs": [
    {
     "name": "stderr",
     "output_type": "stream",
     "text": [
      "                                                                                \r"
     ]
    }
   ],
   "source": [
    "path = \"./data\"\n",
    "df = spark.read.option(\"delimiter\", \",\").option(\"header\", True).option(\"inferSchema\", \"true\").csv(path)\n",
    "df = df.withColumn('discount_points', df.discount_points.cast('double'))\n",
    "# df = df.withColumn('origination_charges', df.origination_charges.cast('double'))\n",
    "# df = df.withColumn('sum_points', df.origination_charges + df.discount_points)\n",
    "df = df.withColumn('combined_loan_to_value_ratio', df.combined_loan_to_value_ratio.cast('double'))\n",
    "df = df.withColumn('total_loan_costs', df.total_loan_costs.cast('double'))"
   ]
  },
  {
   "cell_type": "code",
   "execution_count": 4,
   "id": "0620655b-f023-4ad6-a018-4901686ae7c6",
   "metadata": {},
   "outputs": [
    {
     "name": "stderr",
     "output_type": "stream",
     "text": [
      "                                                                                \r"
     ]
    },
    {
     "data": {
      "text/plain": [
       "100676029"
      ]
     },
     "execution_count": 4,
     "metadata": {},
     "output_type": "execute_result"
    }
   ],
   "source": [
    "df.count()"
   ]
  },
  {
   "cell_type": "code",
   "execution_count": 5,
   "id": "90598e2f",
   "metadata": {},
   "outputs": [],
   "source": [
    "filtered = df.na.drop(subset=[\"total_loan_costs\", 'interest_rate']).filter(\n",
    "    (df.derived_loan_product_type.contains('First Lien'))&\n",
    "    (df.conforming_loan_limit == 'C')&\n",
    "    (df.reverse_mortgage != 1)&\n",
    "    (df.interest_only_payment != 1)&\n",
    "    (df.construction_method != 2)&\n",
    "    (df.loan_purpose == 1)&\n",
    "    (df.occupancy_type == 1)&\n",
    "    (df.total_loan_costs <= 50000)&\n",
    "    (df.total_loan_costs <= df.loan_amount)&\n",
    "    # (df.total_loan_costs <= df.sum_points)&\n",
    "    (df.combined_loan_to_value_ratio <= 102)\n",
    ")"
   ]
  },
  {
   "cell_type": "code",
   "execution_count": 6,
   "id": "027e1b33-089d-4756-ae8c-a864d26fa18e",
   "metadata": {},
   "outputs": [
    {
     "name": "stderr",
     "output_type": "stream",
     "text": [
      "                                                                                \r"
     ]
    },
    {
     "data": {
      "text/plain": [
       "16762105"
      ]
     },
     "execution_count": 6,
     "metadata": {},
     "output_type": "execute_result"
    }
   ],
   "source": [
    "filtered.count()"
   ]
  },
  {
   "cell_type": "code",
   "execution_count": 7,
   "id": "a9c6a170-2c00-41cb-84bf-9447b4d0190b",
   "metadata": {},
   "outputs": [],
   "source": [
    "@udf\n",
    "def get_race(race, ethnicity):\n",
    "    for r in ['White','Black','Asian']:\n",
    "        if r in race:\n",
    "            return r\n",
    "    \n",
    "    if ethnicity == 'Hispanic or Latino':\n",
    "        return 'Latino'\n",
    "            \n",
    "    return None"
   ]
  },
  {
   "cell_type": "code",
   "execution_count": 8,
   "id": "01e3a215-36f4-448f-8a13-d00147bcd435",
   "metadata": {},
   "outputs": [],
   "source": [
    "filtered = filtered.withColumn(\"ethnicity\", get_race(col('derived_race'), col('derived_ethnicity')))"
   ]
  },
  {
   "cell_type": "code",
   "execution_count": 9,
   "id": "b9b9fa1e",
   "metadata": {},
   "outputs": [],
   "source": [
    "joined = filtered.join(df_panel, filtered.lei == df_panel.lei_code)\n",
    "joined = joined.select('bank','ethnicity','activity_year','total_loan_costs','income',\n",
    "                       'debt_to_income_ratio','loan_amount','combined_loan_to_value_ratio','discount_points',\n",
    "                       'lender_credits','loan_type','loan_purpose')\n",
    "\n",
    "joined = joined.withColumn('income', df.income.cast('double'))\n",
    "joined = joined.withColumn('debt_to_income_ratio', df.debt_to_income_ratio.cast('double'))\n",
    "joined = joined.withColumn('lender_credits', df.lender_credits.cast('double'))\n",
    "\n",
    "joined = joined.na.drop('any')"
   ]
  },
  {
   "cell_type": "code",
   "execution_count": 10,
   "id": "57f24067-f802-4bb9-b08f-eaae58c910b4",
   "metadata": {},
   "outputs": [
    {
     "name": "stderr",
     "output_type": "stream",
     "text": [
      "                                                                                \r"
     ]
    }
   ],
   "source": [
    "per_year_avg = joined.groupBy('activity_year','bank').avg('total_loan_costs').toPandas()"
   ]
  },
  {
   "cell_type": "code",
   "execution_count": 11,
   "id": "c604911b-1fa9-4e02-a859-0d2105ab5ff1",
   "metadata": {},
   "outputs": [
    {
     "data": {
      "image/png": "[encoded data removed]",
      "text/plain": [
       "<Figure size 616.125x500 with 1 Axes>"
      ]
     },
     "metadata": {},
     "output_type": "display_data"
    }
   ],
   "source": [
    "import seaborn as sns\n",
    "import matplotlib.pyplot as plt\n",
    "sns.set_theme(style=\"whitegrid\")\n",
    "\n",
    "per_year_avg['bank'] = per_year_avg['bank'].apply(lambda x:'Bank' if x == True else 'Nonbank')\n",
    "\n",
    "g = sns.catplot(\n",
    "    data=per_year_avg, kind=\"bar\",\n",
    "    x=\"activity_year\", y=\"avg(total_loan_costs)\", hue=\"bank\"\n",
    ")\n",
    "\n",
    "g.set_axis_labels(\"\", \"Average total loan costs ($)\")\n",
    "g.legend.set_title(\"\")"
   ]
  },
  {
   "cell_type": "code",
   "execution_count": 12,
   "id": "1d5dbd76-3610-4ccc-9f46-5571c6c7611e",
   "metadata": {},
   "outputs": [],
   "source": [
    "bank = joined.filter(joined.bank == True)\n",
    "nonbank = joined.filter(joined.bank != True)"
   ]
  },
  {
   "cell_type": "code",
   "execution_count": 13,
   "id": "d63ac474-fbe5-42bf-af89-e54d0b4523b1",
   "metadata": {},
   "outputs": [],
   "source": [
    "from pyspark.ml.regression import LinearRegression\n",
    "from pyspark.ml.feature import VectorAssembler\n",
    "\n",
    "assembler = VectorAssembler(inputCols=['income','debt_to_income_ratio','loan_amount',\n",
    "                                       'combined_loan_to_value_ratio','discount_points',\n",
    "                                       'lender_credits','loan_type','loan_purpose'], \n",
    "                            outputCol='features')\n",
    "\n",
    "lr = LinearRegression(featuresCol='features', labelCol='total_loan_costs', predictionCol='pred_cost', regParam=0.5, elasticNetParam=0.8)"
   ]
  },
  {
   "cell_type": "code",
   "execution_count": 14,
   "id": "4424eb2b-4c98-4d81-9b40-b8ac40777cff",
   "metadata": {},
   "outputs": [
    {
     "name": "stderr",
     "output_type": "stream",
     "text": [
      "24/02/13 18:10:46 WARN InstanceBuilder: Failed to load implementation from:dev.ludovic.netlib.blas.JNIBLAS\n",
      "24/02/13 18:10:46 WARN InstanceBuilder: Failed to load implementation from:dev.ludovic.netlib.blas.VectorBLAS\n",
      "                                                                                \r"
     ]
    }
   ],
   "source": [
    "white_data_bank = assembler.transform(\n",
    "        bank.filter(bank.ethnicity.contains('White'))\n",
    ").select('features', 'total_loan_costs')\n",
    "\n",
    "white_data_nonbank = assembler.transform(\n",
    "        nonbank.filter(nonbank.ethnicity.contains('White'))\n",
    ").select('features', 'total_loan_costs')\n",
    "\n",
    "lr_bank = lr.fit(white_data_bank)\n",
    "lr_nonbank = lr.fit(white_data_nonbank)"
   ]
  },
  {
   "cell_type": "code",
   "execution_count": 15,
   "id": "680fbc86-6ba0-4b68-b3b2-c351a6daacf4",
   "metadata": {},
   "outputs": [],
   "source": [
    "data_bank = assembler.transform(bank.filter(bank.ethnicity != 'White')).select('features', 'total_loan_costs', 'ethnicity')\n",
    "data_nonbank = assembler.transform(nonbank.filter(bank.ethnicity != 'White')).select('features', 'total_loan_costs', 'ethnicity')\n",
    "\n",
    "nonbank_pred= lr_nonbank.transform(data_nonbank)\n",
    "bank_pred= lr_bank.transform(data_bank)\n",
    "\n",
    "nonbank_pred = nonbank_pred.withColumn('diff', nonbank_pred.total_loan_costs - nonbank_pred.pred_cost)\n",
    "bank_pred = bank_pred.withColumn('diff', bank_pred.total_loan_costs - bank_pred.pred_cost)"
   ]
  },
  {
   "cell_type": "code",
   "execution_count": 16,
   "id": "a85ce28c-789e-4794-98a8-786b8d029346",
   "metadata": {},
   "outputs": [
    {
     "name": "stderr",
     "output_type": "stream",
     "text": [
      "                                                                                \r"
     ]
    }
   ],
   "source": [
    "from pyspark.sql.functions import mean\n",
    "\n",
    "avg_nonbank = nonbank_pred.groupBy('ethnicity').avg('diff').toPandas()\n",
    "avg_bank = bank_pred.groupBy('ethnicity').avg('diff').toPandas()"
   ]
  },
  {
   "cell_type": "code",
   "execution_count": 17,
   "id": "20fc430d-8658-492f-afa9-e5f9efdebb82",
   "metadata": {},
   "outputs": [
    {
     "data": {
      "text/plain": [
       "Text(0, -0.8, '| White')"
      ]
     },
     "execution_count": 17,
     "metadata": {},
     "output_type": "execute_result"
    },
    {
     "data": {
      "image/png": "[encoded data removed]",
      "text/plain": [
       "<Figure size 2500x200 with 1 Axes>"
      ]
     },
     "metadata": {},
     "output_type": "display_data"
    }
   ],
   "source": [
    "import seaborn as sns\n",
    "import matplotlib.pyplot as plt\n",
    "\n",
    "\n",
    "f, ax = plt.subplots(figsize=(25,2))\n",
    "sns.set_theme(style=\"whitegrid\")\n",
    "\n",
    "g = sns.barplot(x=\"avg(diff)\", y=\"ethnicity\", data=avg_nonbank,\n",
    "            label=\"avg(diff)\", color=\"magenta\", width=1.0)\n",
    "\n",
    "labels = [str(int(x)) + '$' for x in avg_nonbank['avg(diff)']]\n",
    "ax.bar_label(ax.containers[0], labels=labels, padding=2)\n",
    "ax.set_xlim(-600, +650)\n",
    "\n",
    "ax.grid(False)\n",
    "g.set(xlabel=None)\n",
    "g.set(ylabel=None)\n",
    "ax.text(0, -0.8, \"| White\")"
   ]
  },
  {
   "cell_type": "code",
   "execution_count": 18,
   "id": "45115d7a-55b8-45dd-a978-8e2685b02045",
   "metadata": {},
   "outputs": [
    {
     "data": {
      "text/plain": [
       "Text(0, -0.8, '| White')"
      ]
     },
     "execution_count": 18,
     "metadata": {},
     "output_type": "execute_result"
    },
    {
     "data": {
      "image/png": "[encoded data removed]",
      "text/plain": [
       "<Figure size 2500x200 with 1 Axes>"
      ]
     },
     "metadata": {},
     "output_type": "display_data"
    }
   ],
   "source": [
    "f, ax = plt.subplots(figsize=(25,2))\n",
    "sns.set_theme(style=\"whitegrid\")\n",
    "\n",
    "g = sns.barplot(x=\"avg(diff)\", y=\"ethnicity\", data=avg_bank,\n",
    "            label=\"avg(diff)\", color=\"black\", width=1.0)\n",
    "\n",
    "labels = [str(int(x)) + '$' for x in avg_bank['avg(diff)']]\n",
    "ax.bar_label(ax.containers[0], labels=labels, padding=2)\n",
    "ax.set_xlim(-600, +650)\n",
    "\n",
    "ax.grid(False)\n",
    "g.set(xlabel=None)\n",
    "g.set(ylabel=None)\n",
    "ax.text(0, -0.8, \"| White\")"
   ]
  },
  {
   "cell_type": "code",
   "execution_count": null,
   "id": "8df9d5f1-fc96-48a5-8af3-9b7617a7d274",
   "metadata": {},
   "outputs": [],
   "source": []
  }
 ],
 "metadata": {
  "kernelspec": {
   "display_name": "Python 3 (ipykernel)",
   "language": "python",
   "name": "python3"
  },
  "language_info": {
   "codemirror_mode": {
    "name": "ipython",
    "version": 3
   },
   "file_extension": ".py",
   "mimetype": "text/x-python",
   "name": "python",
   "nbconvert_exporter": "python",
   "pygments_lexer": "ipython3",
   "version": "3.9.12"
  }
 },
 "nbformat": 4,
 "nbformat_minor": 5
}
